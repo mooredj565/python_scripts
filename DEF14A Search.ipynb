{
 "cells": [
  {
   "cell_type": "code",
   "execution_count": 1,
   "metadata": {},
   "outputs": [],
   "source": [
    "import pandas as pd\n",
    "import numpy as np\n",
    "import math\n",
    "import urllib\n",
    "import requests\n",
    "import asyncio\n",
    "from bs4 import BeautifulSoup as BS"
   ]
  },
  {
   "cell_type": "code",
   "execution_count": 60,
   "metadata": {},
   "outputs": [],
   "source": [
    "#async functions\n",
    "\n",
    "def snag_shit_pandas(url):\n",
    "    response = pd.read_html(url)\n",
    "    return response\n",
    "\n",
    "async def snag_shit_soups(url):\n",
    "    page = requests.get(url_list[j])\n",
    "    soup = BS(page.content, 'lxml')\n",
    "    response = soup.find_all('a') \n",
    "    return await response"
   ]
  },
  {
   "cell_type": "code",
   "execution_count": null,
   "metadata": {},
   "outputs": [],
   "source": [
    "#asynchronous  info\n",
    "# Get a reference to the event loop\n",
    "loop = asyncio.get_event_loop()\n",
    "\n",
    "# Create the list of shit we want to get asnyc\n",
    "requests = [asyncio.ensure_future(snag_shit_pandas(someDumbassURL)),\n",
    "            asyncio.ensure_future(snag_shit_pandas(someOtherDumbShitURL))]\n",
    "\n",
    "# Run the requests\n",
    "responses = loop.run_until_complete(asyncio.gather(*requests))\n",
    "\n",
    "responses\n",
    "\n",
    "#found this dope shit too. add it if ou want to quit long stuff\n",
    "try:\n",
    "    loop.run_forever()\n",
    "except KeyboardInterrupt:\n",
    "    # Canceling pending tasks and stopping the loop\n",
    "    asyncio.gather(*asyncio.Task.all_tasks()).cancel()\n",
    "    # Stopping the loop\n",
    "    loop.stop()\n",
    "    # Received Ctrl+C\n",
    "    loop.close() "
   ]
  },
  {
   "cell_type": "code",
   "execution_count": 2,
   "metadata": {},
   "outputs": [],
   "source": [
    "#inputs stuff\n",
    "\n",
    "tickers = ['MNTA', 'AON', 'OPHT', 'IIVI', 'MMM', 'GE']\n",
    "filing_input_type = 'DEF+14'\n",
    "table_var = \"Summary Compensation Table\"\n",
    "period = 2"
   ]
  },
  {
   "cell_type": "code",
   "execution_count": 3,
   "metadata": {},
   "outputs": [
    {
     "data": {
      "text/plain": [
       "['https://www.sec.gov/cgi-bin/browse-edgar?CIK=MNTA&owner=include&action=getcompany&type=DEF+14',\n",
       " 'https://www.sec.gov/cgi-bin/browse-edgar?CIK=AON&owner=include&action=getcompany&type=DEF+14',\n",
       " 'https://www.sec.gov/cgi-bin/browse-edgar?CIK=OPHT&owner=include&action=getcompany&type=DEF+14',\n",
       " 'https://www.sec.gov/cgi-bin/browse-edgar?CIK=IIVI&owner=include&action=getcompany&type=DEF+14',\n",
       " 'https://www.sec.gov/cgi-bin/browse-edgar?CIK=MMM&owner=include&action=getcompany&type=DEF+14',\n",
       " 'https://www.sec.gov/cgi-bin/browse-edgar?CIK=GE&owner=include&action=getcompany&type=DEF+14']"
      ]
     },
     "execution_count": 3,
     "metadata": {},
     "output_type": "execute_result"
    }
   ],
   "source": [
    "url_list = []\n",
    "\n",
    "for i in range(0, len(tickers)):\n",
    "    url_list.append('https://www.sec.gov/cgi-bin/browse-edgar?CIK=' + tickers[i] + '&owner=include&action=getcompany&type=' + filing_input_type)    \n",
    "url_list"
   ]
  },
  {
   "cell_type": "code",
   "execution_count": 4,
   "metadata": {
    "scrolled": true
   },
   "outputs": [
    {
     "data": {
      "text/plain": [
       "[['MNTA',\n",
       "  '/Archives/edgar/data/1235010/000104746918003290/a2235381zdef14a.htm'],\n",
       " ['MNTA',\n",
       "  '/Archives/edgar/data/1235010/000123501017000006/mnta2017proxystatement.htm'],\n",
       " ['MNTA',\n",
       "  '/Archives/edgar/data/1235010/000104746916012622/a2228452zdef14a.htm'],\n",
       " ['AON',\n",
       "  '/Archives/edgar/data/1235010/000104746918003290/a2235381zdef14a.htm'],\n",
       " ['AON',\n",
       "  '/Archives/edgar/data/1235010/000123501017000006/mnta2017proxystatement.htm'],\n",
       " ['AON',\n",
       "  '/Archives/edgar/data/1235010/000104746916012622/a2228452zdef14a.htm'],\n",
       " ['AON', '/Archives/edgar/data/315293/000119312518138792/d471390ddef14a.htm'],\n",
       " ['AON', '/Archives/edgar/data/315293/000104746917003055/a2231270zdef14a.htm'],\n",
       " ['AON', '/Archives/edgar/data/315293/000104746916012756/a2228022zdef14a.htm'],\n",
       " ['OPHT',\n",
       "  '/Archives/edgar/data/1235010/000104746918003290/a2235381zdef14a.htm'],\n",
       " ['OPHT',\n",
       "  '/Archives/edgar/data/1235010/000123501017000006/mnta2017proxystatement.htm'],\n",
       " ['OPHT',\n",
       "  '/Archives/edgar/data/1235010/000104746916012622/a2228452zdef14a.htm'],\n",
       " ['OPHT', '/Archives/edgar/data/315293/000119312518138792/d471390ddef14a.htm'],\n",
       " ['OPHT',\n",
       "  '/Archives/edgar/data/315293/000104746917003055/a2231270zdef14a.htm'],\n",
       " ['OPHT',\n",
       "  '/Archives/edgar/data/315293/000104746916012756/a2228022zdef14a.htm'],\n",
       " ['OPHT',\n",
       "  '/Archives/edgar/data/1410939/000141093918000020/proxystatementfor2018annua.htm'],\n",
       " ['OPHT',\n",
       "  '/Archives/edgar/data/1410939/000104746917002856/a2231921zdef14a.htm'],\n",
       " ['OPHT',\n",
       "  '/Archives/edgar/data/1410939/000104746916012742/a2228447zdef14a.htm'],\n",
       " ['IIVI',\n",
       "  '/Archives/edgar/data/1235010/000104746918003290/a2235381zdef14a.htm'],\n",
       " ['IIVI',\n",
       "  '/Archives/edgar/data/1235010/000123501017000006/mnta2017proxystatement.htm'],\n",
       " ['IIVI',\n",
       "  '/Archives/edgar/data/1235010/000104746916012622/a2228452zdef14a.htm'],\n",
       " ['IIVI', '/Archives/edgar/data/315293/000119312518138792/d471390ddef14a.htm'],\n",
       " ['IIVI',\n",
       "  '/Archives/edgar/data/315293/000104746917003055/a2231270zdef14a.htm'],\n",
       " ['IIVI',\n",
       "  '/Archives/edgar/data/315293/000104746916012756/a2228022zdef14a.htm'],\n",
       " ['IIVI',\n",
       "  '/Archives/edgar/data/1410939/000141093918000020/proxystatementfor2018annua.htm'],\n",
       " ['IIVI',\n",
       "  '/Archives/edgar/data/1410939/000104746917002856/a2231921zdef14a.htm'],\n",
       " ['IIVI',\n",
       "  '/Archives/edgar/data/1410939/000104746916012742/a2228447zdef14a.htm'],\n",
       " ['IIVI', '/Archives/edgar/data/820318/000119312517286341/d434985ddef14a.htm'],\n",
       " ['IIVI', '/Archives/edgar/data/820318/000119312516712280/d245400ddef14a.htm'],\n",
       " ['IIVI', '/Archives/edgar/data/820318/000119312515323423/d20809ddef14a.htm'],\n",
       " ['MMM',\n",
       "  '/Archives/edgar/data/1235010/000104746918003290/a2235381zdef14a.htm'],\n",
       " ['MMM',\n",
       "  '/Archives/edgar/data/1235010/000123501017000006/mnta2017proxystatement.htm'],\n",
       " ['MMM',\n",
       "  '/Archives/edgar/data/1235010/000104746916012622/a2228452zdef14a.htm'],\n",
       " ['MMM', '/Archives/edgar/data/315293/000119312518138792/d471390ddef14a.htm'],\n",
       " ['MMM', '/Archives/edgar/data/315293/000104746917003055/a2231270zdef14a.htm'],\n",
       " ['MMM', '/Archives/edgar/data/315293/000104746916012756/a2228022zdef14a.htm'],\n",
       " ['MMM',\n",
       "  '/Archives/edgar/data/1410939/000141093918000020/proxystatementfor2018annua.htm'],\n",
       " ['MMM',\n",
       "  '/Archives/edgar/data/1410939/000104746917002856/a2231921zdef14a.htm'],\n",
       " ['MMM',\n",
       "  '/Archives/edgar/data/1410939/000104746916012742/a2228447zdef14a.htm'],\n",
       " ['MMM', '/Archives/edgar/data/820318/000119312517286341/d434985ddef14a.htm'],\n",
       " ['MMM', '/Archives/edgar/data/820318/000119312516712280/d245400ddef14a.htm'],\n",
       " ['MMM', '/Archives/edgar/data/820318/000119312515323423/d20809ddef14a.htm'],\n",
       " ['MMM',\n",
       "  '/Archives/edgar/data/66740/000120677418000890/threem3251561-def14a.htm'],\n",
       " ['MMM',\n",
       "  '/Archives/edgar/data/66740/000120677417000922/threem3172441-def14a.htm'],\n",
       " ['MMM', '/Archives/edgar/data/66740/000120677416005067/threem_def14a.htm'],\n",
       " ['GE', '/Archives/edgar/data/1235010/000104746918003290/a2235381zdef14a.htm'],\n",
       " ['GE',\n",
       "  '/Archives/edgar/data/1235010/000123501017000006/mnta2017proxystatement.htm'],\n",
       " ['GE', '/Archives/edgar/data/1235010/000104746916012622/a2228452zdef14a.htm'],\n",
       " ['GE', '/Archives/edgar/data/315293/000119312518138792/d471390ddef14a.htm'],\n",
       " ['GE', '/Archives/edgar/data/315293/000104746917003055/a2231270zdef14a.htm'],\n",
       " ['GE', '/Archives/edgar/data/315293/000104746916012756/a2228022zdef14a.htm'],\n",
       " ['GE',\n",
       "  '/Archives/edgar/data/1410939/000141093918000020/proxystatementfor2018annua.htm'],\n",
       " ['GE', '/Archives/edgar/data/1410939/000104746917002856/a2231921zdef14a.htm'],\n",
       " ['GE', '/Archives/edgar/data/1410939/000104746916012742/a2228447zdef14a.htm'],\n",
       " ['GE', '/Archives/edgar/data/820318/000119312517286341/d434985ddef14a.htm'],\n",
       " ['GE', '/Archives/edgar/data/820318/000119312516712280/d245400ddef14a.htm'],\n",
       " ['GE', '/Archives/edgar/data/820318/000119312515323423/d20809ddef14a.htm'],\n",
       " ['GE',\n",
       "  '/Archives/edgar/data/66740/000120677418000890/threem3251561-def14a.htm'],\n",
       " ['GE',\n",
       "  '/Archives/edgar/data/66740/000120677417000922/threem3172441-def14a.htm'],\n",
       " ['GE', '/Archives/edgar/data/66740/000120677416005067/threem_def14a.htm'],\n",
       " ['GE', '/Archives/edgar/data/40545/000120677418000752/ge3334621-def14a.htm'],\n",
       " ['GE', '/Archives/edgar/data/40545/000120677417000738/ge3179831-def14a.htm'],\n",
       " ['GE', '/Archives/edgar/data/40545/000120677416004893/ge_def14a.htm']]"
      ]
     },
     "execution_count": 4,
     "metadata": {},
     "output_type": "execute_result"
    }
   ],
   "source": [
    "#BS grabs links here\n",
    "tag_list = []\n",
    "document_links = []\n",
    "\n",
    "for j in range(0,len(url_list)):\n",
    "    page = requests.get(url_list[j])\n",
    "    soup = BS(page.content, 'lxml')\n",
    "    doc_link = soup.find_all('a')\n",
    "    count = 0\n",
    "\n",
    "    for i in range(0,len(doc_link)):\n",
    "        x = doc_link[i].get('href')\n",
    "        y = x.split('/')\n",
    "        if len(y) > 1:\n",
    "            if (y[1] == 'Archives' and count <= period):\n",
    "                tag_list.append(x)\n",
    "                count = count + 1\n",
    "\n",
    "    for i in range(0,len(tag_list)):\n",
    "        index_page = requests.get('https://www.sec.gov'+tag_list[i])\n",
    "        soup2= BS(index_page.content, 'lxml')\n",
    "        doc_link2 = soup2.find_all('a')\n",
    "        document_links.append([tickers[j],doc_link2[8].get('href')])\n",
    "    \n",
    "document_links"
   ]
  },
  {
   "cell_type": "code",
   "execution_count": 5,
   "metadata": {
    "scrolled": true
   },
   "outputs": [],
   "source": [
    "filing_reader = []\n",
    "for i in range(0,len(document_links)):\n",
    "    url = 'https://www.sec.gov'+document_links[i][1]\n",
    "    filing_reader.append([document_links[i][0],pd.read_html(url)])"
   ]
  },
  {
   "cell_type": "code",
   "execution_count": null,
   "metadata": {},
   "outputs": [],
   "source": []
  },
  {
   "cell_type": "code",
   "execution_count": 46,
   "metadata": {
    "scrolled": true
   },
   "outputs": [
    {
     "data": {
      "text/plain": [
       "False"
      ]
     },
     "execution_count": 46,
     "metadata": {},
     "output_type": "execute_result"
    }
   ],
   "source": [
    "#filing_reader[0][1][21][0].str.contains('Position' | 'salary').sum()\n",
    "searchParameters = (\"Name\",\"Position\",\"Salary\",\"Stock\",\"Award\",\"Option\",\"Non‑Equity\",\"Incentive\",\"Plan\",\"Compensation\",\"All Other\",\"Total\")\n",
    "any(s in filing_reader[0][1][21][0] for s in searchParameters)"
   ]
  },
  {
   "cell_type": "code",
   "execution_count": 43,
   "metadata": {},
   "outputs": [
    {
     "ename": "KeyError",
     "evalue": "3",
     "output_type": "error",
     "traceback": [
      "\u001b[1;31m---------------------------------------------------------------------------\u001b[0m",
      "\u001b[1;31mKeyError\u001b[0m                                  Traceback (most recent call last)",
      "\u001b[1;32m~\\AppData\\Local\\Continuum\\anaconda3\\lib\\site-packages\\pandas\\core\\indexes\\base.py\u001b[0m in \u001b[0;36mget_loc\u001b[1;34m(self, key, method, tolerance)\u001b[0m\n\u001b[0;32m   2524\u001b[0m             \u001b[1;32mtry\u001b[0m\u001b[1;33m:\u001b[0m\u001b[1;33m\u001b[0m\u001b[0m\n\u001b[1;32m-> 2525\u001b[1;33m                 \u001b[1;32mreturn\u001b[0m \u001b[0mself\u001b[0m\u001b[1;33m.\u001b[0m\u001b[0m_engine\u001b[0m\u001b[1;33m.\u001b[0m\u001b[0mget_loc\u001b[0m\u001b[1;33m(\u001b[0m\u001b[0mkey\u001b[0m\u001b[1;33m)\u001b[0m\u001b[1;33m\u001b[0m\u001b[0m\n\u001b[0m\u001b[0;32m   2526\u001b[0m             \u001b[1;32mexcept\u001b[0m \u001b[0mKeyError\u001b[0m\u001b[1;33m:\u001b[0m\u001b[1;33m\u001b[0m\u001b[0m\n",
      "\u001b[1;32mpandas/_libs/index.pyx\u001b[0m in \u001b[0;36mpandas._libs.index.IndexEngine.get_loc\u001b[1;34m()\u001b[0m\n",
      "\u001b[1;32mpandas/_libs/index.pyx\u001b[0m in \u001b[0;36mpandas._libs.index.IndexEngine.get_loc\u001b[1;34m()\u001b[0m\n",
      "\u001b[1;32mpandas/_libs/hashtable_class_helper.pxi\u001b[0m in \u001b[0;36mpandas._libs.hashtable.Int64HashTable.get_item\u001b[1;34m()\u001b[0m\n",
      "\u001b[1;32mpandas/_libs/hashtable_class_helper.pxi\u001b[0m in \u001b[0;36mpandas._libs.hashtable.Int64HashTable.get_item\u001b[1;34m()\u001b[0m\n",
      "\u001b[1;31mKeyError\u001b[0m: 3",
      "\nDuring handling of the above exception, another exception occurred:\n",
      "\u001b[1;31mKeyError\u001b[0m                                  Traceback (most recent call last)",
      "\u001b[1;32m<ipython-input-43-00da084b4cb6>\u001b[0m in \u001b[0;36m<module>\u001b[1;34m()\u001b[0m\n\u001b[0;32m      5\u001b[0m         \u001b[0mframe_counter\u001b[0m \u001b[1;33m=\u001b[0m \u001b[1;36m0\u001b[0m\u001b[1;33m\u001b[0m\u001b[0m\n\u001b[0;32m      6\u001b[0m         \u001b[1;32mfor\u001b[0m \u001b[0mj\u001b[0m \u001b[1;32min\u001b[0m \u001b[0mrange\u001b[0m\u001b[1;33m(\u001b[0m\u001b[1;36m0\u001b[0m\u001b[1;33m,\u001b[0m\u001b[0mlen\u001b[0m\u001b[1;33m(\u001b[0m\u001b[0mfiling_reader\u001b[0m\u001b[1;33m[\u001b[0m\u001b[0mfilings\u001b[0m\u001b[1;33m]\u001b[0m\u001b[1;33m[\u001b[0m\u001b[1;36m1\u001b[0m\u001b[1;33m]\u001b[0m\u001b[1;33m[\u001b[0m\u001b[0mi\u001b[0m\u001b[1;33m]\u001b[0m\u001b[1;33m)\u001b[0m\u001b[1;33m)\u001b[0m\u001b[1;33m:\u001b[0m \u001b[1;31m#for each column\u001b[0m\u001b[1;33m\u001b[0m\u001b[0m\n\u001b[1;32m----> 7\u001b[1;33m             \u001b[1;32mif\u001b[0m \u001b[0many\u001b[0m\u001b[1;33m(\u001b[0m\u001b[0ms\u001b[0m \u001b[1;32min\u001b[0m \u001b[0mfiling_reader\u001b[0m\u001b[1;33m[\u001b[0m\u001b[0mfilings\u001b[0m\u001b[1;33m]\u001b[0m\u001b[1;33m[\u001b[0m\u001b[1;36m1\u001b[0m\u001b[1;33m]\u001b[0m\u001b[1;33m[\u001b[0m\u001b[0mi\u001b[0m\u001b[1;33m]\u001b[0m\u001b[1;33m[\u001b[0m\u001b[0mj\u001b[0m\u001b[1;33m]\u001b[0m \u001b[1;32mfor\u001b[0m \u001b[0ms\u001b[0m \u001b[1;32min\u001b[0m \u001b[0msearchParameters\u001b[0m\u001b[1;33m)\u001b[0m\u001b[1;33m:\u001b[0m\u001b[1;33m\u001b[0m\u001b[0m\n\u001b[0m\u001b[0;32m      8\u001b[0m                 \u001b[0mframe_counter\u001b[0m \u001b[1;33m+=\u001b[0m \u001b[1;36m1\u001b[0m\u001b[1;33m\u001b[0m\u001b[0m\n\u001b[0;32m      9\u001b[0m             \u001b[1;32mif\u001b[0m \u001b[1;33m(\u001b[0m\u001b[0mframe_counter\u001b[0m \u001b[1;33m>\u001b[0m \u001b[0mhighestScore\u001b[0m\u001b[1;33m)\u001b[0m\u001b[1;33m:\u001b[0m\u001b[1;33m\u001b[0m\u001b[0m\n",
      "\u001b[1;32m<ipython-input-43-00da084b4cb6>\u001b[0m in \u001b[0;36m<genexpr>\u001b[1;34m(.0)\u001b[0m\n\u001b[0;32m      5\u001b[0m         \u001b[0mframe_counter\u001b[0m \u001b[1;33m=\u001b[0m \u001b[1;36m0\u001b[0m\u001b[1;33m\u001b[0m\u001b[0m\n\u001b[0;32m      6\u001b[0m         \u001b[1;32mfor\u001b[0m \u001b[0mj\u001b[0m \u001b[1;32min\u001b[0m \u001b[0mrange\u001b[0m\u001b[1;33m(\u001b[0m\u001b[1;36m0\u001b[0m\u001b[1;33m,\u001b[0m\u001b[0mlen\u001b[0m\u001b[1;33m(\u001b[0m\u001b[0mfiling_reader\u001b[0m\u001b[1;33m[\u001b[0m\u001b[0mfilings\u001b[0m\u001b[1;33m]\u001b[0m\u001b[1;33m[\u001b[0m\u001b[1;36m1\u001b[0m\u001b[1;33m]\u001b[0m\u001b[1;33m[\u001b[0m\u001b[0mi\u001b[0m\u001b[1;33m]\u001b[0m\u001b[1;33m)\u001b[0m\u001b[1;33m)\u001b[0m\u001b[1;33m:\u001b[0m \u001b[1;31m#for each column\u001b[0m\u001b[1;33m\u001b[0m\u001b[0m\n\u001b[1;32m----> 7\u001b[1;33m             \u001b[1;32mif\u001b[0m \u001b[0many\u001b[0m\u001b[1;33m(\u001b[0m\u001b[0ms\u001b[0m \u001b[1;32min\u001b[0m \u001b[0mfiling_reader\u001b[0m\u001b[1;33m[\u001b[0m\u001b[0mfilings\u001b[0m\u001b[1;33m]\u001b[0m\u001b[1;33m[\u001b[0m\u001b[1;36m1\u001b[0m\u001b[1;33m]\u001b[0m\u001b[1;33m[\u001b[0m\u001b[0mi\u001b[0m\u001b[1;33m]\u001b[0m\u001b[1;33m[\u001b[0m\u001b[0mj\u001b[0m\u001b[1;33m]\u001b[0m \u001b[1;32mfor\u001b[0m \u001b[0ms\u001b[0m \u001b[1;32min\u001b[0m \u001b[0msearchParameters\u001b[0m\u001b[1;33m)\u001b[0m\u001b[1;33m:\u001b[0m\u001b[1;33m\u001b[0m\u001b[0m\n\u001b[0m\u001b[0;32m      8\u001b[0m                 \u001b[0mframe_counter\u001b[0m \u001b[1;33m+=\u001b[0m \u001b[1;36m1\u001b[0m\u001b[1;33m\u001b[0m\u001b[0m\n\u001b[0;32m      9\u001b[0m             \u001b[1;32mif\u001b[0m \u001b[1;33m(\u001b[0m\u001b[0mframe_counter\u001b[0m \u001b[1;33m>\u001b[0m \u001b[0mhighestScore\u001b[0m\u001b[1;33m)\u001b[0m\u001b[1;33m:\u001b[0m\u001b[1;33m\u001b[0m\u001b[0m\n",
      "\u001b[1;32m~\\AppData\\Local\\Continuum\\anaconda3\\lib\\site-packages\\pandas\\core\\frame.py\u001b[0m in \u001b[0;36m__getitem__\u001b[1;34m(self, key)\u001b[0m\n\u001b[0;32m   2137\u001b[0m             \u001b[1;32mreturn\u001b[0m \u001b[0mself\u001b[0m\u001b[1;33m.\u001b[0m\u001b[0m_getitem_multilevel\u001b[0m\u001b[1;33m(\u001b[0m\u001b[0mkey\u001b[0m\u001b[1;33m)\u001b[0m\u001b[1;33m\u001b[0m\u001b[0m\n\u001b[0;32m   2138\u001b[0m         \u001b[1;32melse\u001b[0m\u001b[1;33m:\u001b[0m\u001b[1;33m\u001b[0m\u001b[0m\n\u001b[1;32m-> 2139\u001b[1;33m             \u001b[1;32mreturn\u001b[0m \u001b[0mself\u001b[0m\u001b[1;33m.\u001b[0m\u001b[0m_getitem_column\u001b[0m\u001b[1;33m(\u001b[0m\u001b[0mkey\u001b[0m\u001b[1;33m)\u001b[0m\u001b[1;33m\u001b[0m\u001b[0m\n\u001b[0m\u001b[0;32m   2140\u001b[0m \u001b[1;33m\u001b[0m\u001b[0m\n\u001b[0;32m   2141\u001b[0m     \u001b[1;32mdef\u001b[0m \u001b[0m_getitem_column\u001b[0m\u001b[1;33m(\u001b[0m\u001b[0mself\u001b[0m\u001b[1;33m,\u001b[0m \u001b[0mkey\u001b[0m\u001b[1;33m)\u001b[0m\u001b[1;33m:\u001b[0m\u001b[1;33m\u001b[0m\u001b[0m\n",
      "\u001b[1;32m~\\AppData\\Local\\Continuum\\anaconda3\\lib\\site-packages\\pandas\\core\\frame.py\u001b[0m in \u001b[0;36m_getitem_column\u001b[1;34m(self, key)\u001b[0m\n\u001b[0;32m   2144\u001b[0m         \u001b[1;31m# get column\u001b[0m\u001b[1;33m\u001b[0m\u001b[1;33m\u001b[0m\u001b[0m\n\u001b[0;32m   2145\u001b[0m         \u001b[1;32mif\u001b[0m \u001b[0mself\u001b[0m\u001b[1;33m.\u001b[0m\u001b[0mcolumns\u001b[0m\u001b[1;33m.\u001b[0m\u001b[0mis_unique\u001b[0m\u001b[1;33m:\u001b[0m\u001b[1;33m\u001b[0m\u001b[0m\n\u001b[1;32m-> 2146\u001b[1;33m             \u001b[1;32mreturn\u001b[0m \u001b[0mself\u001b[0m\u001b[1;33m.\u001b[0m\u001b[0m_get_item_cache\u001b[0m\u001b[1;33m(\u001b[0m\u001b[0mkey\u001b[0m\u001b[1;33m)\u001b[0m\u001b[1;33m\u001b[0m\u001b[0m\n\u001b[0m\u001b[0;32m   2147\u001b[0m \u001b[1;33m\u001b[0m\u001b[0m\n\u001b[0;32m   2148\u001b[0m         \u001b[1;31m# duplicate columns & possible reduce dimensionality\u001b[0m\u001b[1;33m\u001b[0m\u001b[1;33m\u001b[0m\u001b[0m\n",
      "\u001b[1;32m~\\AppData\\Local\\Continuum\\anaconda3\\lib\\site-packages\\pandas\\core\\generic.py\u001b[0m in \u001b[0;36m_get_item_cache\u001b[1;34m(self, item)\u001b[0m\n\u001b[0;32m   1840\u001b[0m         \u001b[0mres\u001b[0m \u001b[1;33m=\u001b[0m \u001b[0mcache\u001b[0m\u001b[1;33m.\u001b[0m\u001b[0mget\u001b[0m\u001b[1;33m(\u001b[0m\u001b[0mitem\u001b[0m\u001b[1;33m)\u001b[0m\u001b[1;33m\u001b[0m\u001b[0m\n\u001b[0;32m   1841\u001b[0m         \u001b[1;32mif\u001b[0m \u001b[0mres\u001b[0m \u001b[1;32mis\u001b[0m \u001b[1;32mNone\u001b[0m\u001b[1;33m:\u001b[0m\u001b[1;33m\u001b[0m\u001b[0m\n\u001b[1;32m-> 1842\u001b[1;33m             \u001b[0mvalues\u001b[0m \u001b[1;33m=\u001b[0m \u001b[0mself\u001b[0m\u001b[1;33m.\u001b[0m\u001b[0m_data\u001b[0m\u001b[1;33m.\u001b[0m\u001b[0mget\u001b[0m\u001b[1;33m(\u001b[0m\u001b[0mitem\u001b[0m\u001b[1;33m)\u001b[0m\u001b[1;33m\u001b[0m\u001b[0m\n\u001b[0m\u001b[0;32m   1843\u001b[0m             \u001b[0mres\u001b[0m \u001b[1;33m=\u001b[0m \u001b[0mself\u001b[0m\u001b[1;33m.\u001b[0m\u001b[0m_box_item_values\u001b[0m\u001b[1;33m(\u001b[0m\u001b[0mitem\u001b[0m\u001b[1;33m,\u001b[0m \u001b[0mvalues\u001b[0m\u001b[1;33m)\u001b[0m\u001b[1;33m\u001b[0m\u001b[0m\n\u001b[0;32m   1844\u001b[0m             \u001b[0mcache\u001b[0m\u001b[1;33m[\u001b[0m\u001b[0mitem\u001b[0m\u001b[1;33m]\u001b[0m \u001b[1;33m=\u001b[0m \u001b[0mres\u001b[0m\u001b[1;33m\u001b[0m\u001b[0m\n",
      "\u001b[1;32m~\\AppData\\Local\\Continuum\\anaconda3\\lib\\site-packages\\pandas\\core\\internals.py\u001b[0m in \u001b[0;36mget\u001b[1;34m(self, item, fastpath)\u001b[0m\n\u001b[0;32m   3841\u001b[0m \u001b[1;33m\u001b[0m\u001b[0m\n\u001b[0;32m   3842\u001b[0m             \u001b[1;32mif\u001b[0m \u001b[1;32mnot\u001b[0m \u001b[0misna\u001b[0m\u001b[1;33m(\u001b[0m\u001b[0mitem\u001b[0m\u001b[1;33m)\u001b[0m\u001b[1;33m:\u001b[0m\u001b[1;33m\u001b[0m\u001b[0m\n\u001b[1;32m-> 3843\u001b[1;33m                 \u001b[0mloc\u001b[0m \u001b[1;33m=\u001b[0m \u001b[0mself\u001b[0m\u001b[1;33m.\u001b[0m\u001b[0mitems\u001b[0m\u001b[1;33m.\u001b[0m\u001b[0mget_loc\u001b[0m\u001b[1;33m(\u001b[0m\u001b[0mitem\u001b[0m\u001b[1;33m)\u001b[0m\u001b[1;33m\u001b[0m\u001b[0m\n\u001b[0m\u001b[0;32m   3844\u001b[0m             \u001b[1;32melse\u001b[0m\u001b[1;33m:\u001b[0m\u001b[1;33m\u001b[0m\u001b[0m\n\u001b[0;32m   3845\u001b[0m                 \u001b[0mindexer\u001b[0m \u001b[1;33m=\u001b[0m \u001b[0mnp\u001b[0m\u001b[1;33m.\u001b[0m\u001b[0marange\u001b[0m\u001b[1;33m(\u001b[0m\u001b[0mlen\u001b[0m\u001b[1;33m(\u001b[0m\u001b[0mself\u001b[0m\u001b[1;33m.\u001b[0m\u001b[0mitems\u001b[0m\u001b[1;33m)\u001b[0m\u001b[1;33m)\u001b[0m\u001b[1;33m[\u001b[0m\u001b[0misna\u001b[0m\u001b[1;33m(\u001b[0m\u001b[0mself\u001b[0m\u001b[1;33m.\u001b[0m\u001b[0mitems\u001b[0m\u001b[1;33m)\u001b[0m\u001b[1;33m]\u001b[0m\u001b[1;33m\u001b[0m\u001b[0m\n",
      "\u001b[1;32m~\\AppData\\Local\\Continuum\\anaconda3\\lib\\site-packages\\pandas\\core\\indexes\\base.py\u001b[0m in \u001b[0;36mget_loc\u001b[1;34m(self, key, method, tolerance)\u001b[0m\n\u001b[0;32m   2525\u001b[0m                 \u001b[1;32mreturn\u001b[0m \u001b[0mself\u001b[0m\u001b[1;33m.\u001b[0m\u001b[0m_engine\u001b[0m\u001b[1;33m.\u001b[0m\u001b[0mget_loc\u001b[0m\u001b[1;33m(\u001b[0m\u001b[0mkey\u001b[0m\u001b[1;33m)\u001b[0m\u001b[1;33m\u001b[0m\u001b[0m\n\u001b[0;32m   2526\u001b[0m             \u001b[1;32mexcept\u001b[0m \u001b[0mKeyError\u001b[0m\u001b[1;33m:\u001b[0m\u001b[1;33m\u001b[0m\u001b[0m\n\u001b[1;32m-> 2527\u001b[1;33m                 \u001b[1;32mreturn\u001b[0m \u001b[0mself\u001b[0m\u001b[1;33m.\u001b[0m\u001b[0m_engine\u001b[0m\u001b[1;33m.\u001b[0m\u001b[0mget_loc\u001b[0m\u001b[1;33m(\u001b[0m\u001b[0mself\u001b[0m\u001b[1;33m.\u001b[0m\u001b[0m_maybe_cast_indexer\u001b[0m\u001b[1;33m(\u001b[0m\u001b[0mkey\u001b[0m\u001b[1;33m)\u001b[0m\u001b[1;33m)\u001b[0m\u001b[1;33m\u001b[0m\u001b[0m\n\u001b[0m\u001b[0;32m   2528\u001b[0m \u001b[1;33m\u001b[0m\u001b[0m\n\u001b[0;32m   2529\u001b[0m         \u001b[0mindexer\u001b[0m \u001b[1;33m=\u001b[0m \u001b[0mself\u001b[0m\u001b[1;33m.\u001b[0m\u001b[0mget_indexer\u001b[0m\u001b[1;33m(\u001b[0m\u001b[1;33m[\u001b[0m\u001b[0mkey\u001b[0m\u001b[1;33m]\u001b[0m\u001b[1;33m,\u001b[0m \u001b[0mmethod\u001b[0m\u001b[1;33m=\u001b[0m\u001b[0mmethod\u001b[0m\u001b[1;33m,\u001b[0m \u001b[0mtolerance\u001b[0m\u001b[1;33m=\u001b[0m\u001b[0mtolerance\u001b[0m\u001b[1;33m)\u001b[0m\u001b[1;33m\u001b[0m\u001b[0m\n",
      "\u001b[1;32mpandas/_libs/index.pyx\u001b[0m in \u001b[0;36mpandas._libs.index.IndexEngine.get_loc\u001b[1;34m()\u001b[0m\n",
      "\u001b[1;32mpandas/_libs/index.pyx\u001b[0m in \u001b[0;36mpandas._libs.index.IndexEngine.get_loc\u001b[1;34m()\u001b[0m\n",
      "\u001b[1;32mpandas/_libs/hashtable_class_helper.pxi\u001b[0m in \u001b[0;36mpandas._libs.hashtable.Int64HashTable.get_item\u001b[1;34m()\u001b[0m\n",
      "\u001b[1;32mpandas/_libs/hashtable_class_helper.pxi\u001b[0m in \u001b[0;36mpandas._libs.hashtable.Int64HashTable.get_item\u001b[1;34m()\u001b[0m\n",
      "\u001b[1;31mKeyError\u001b[0m: 3"
     ]
    }
   ],
   "source": [
    "#need to fix\n",
    "\n",
    "highestScore = 0\n",
    "searchParameters = (\"Name\",\"Position\",\"Salary\",\"Stock\",\"Award\",\"Option\",\"Non‑Equity\",\"Incentive\",\"Plan\",\"Compensation\",\"All Other\",\"Total\")\n",
    "for filings in range(0, len(filing_reader)): #for all filings\n",
    "    for i in range(0, len(filing_reader[filings][1])): #for each table\n",
    "        frame_counter = 0\n",
    "        for j in range(0,len(filing_reader[filings][1][i])): #for each column \n",
    "            if any(s in filing_reader[filings][1][i][j] for s in searchParameters):\n",
    "                frame_counter += 1\n",
    "            if (frame_counter > highestScore):\n",
    "                bestmatch = filing_reader[filings][1][i][j]\n",
    "                highestScore = frame_counter\n",
    "        bestmatches.append([filing_reader[filings][0],bestmatch])\n",
    "    \n",
    "        "
   ]
  },
  {
   "cell_type": "code",
   "execution_count": null,
   "metadata": {},
   "outputs": [],
   "source": [
    "bestmatches"
   ]
  },
  {
   "cell_type": "code",
   "execution_count": null,
   "metadata": {},
   "outputs": [],
   "source": []
  },
  {
   "cell_type": "code",
   "execution_count": null,
   "metadata": {},
   "outputs": [],
   "source": []
  },
  {
   "cell_type": "code",
   "execution_count": null,
   "metadata": {},
   "outputs": [],
   "source": [
    "\n"
   ]
  }
 ],
 "metadata": {
  "kernelspec": {
   "display_name": "Python 3",
   "language": "python",
   "name": "python3"
  },
  "language_info": {
   "codemirror_mode": {
    "name": "ipython",
    "version": 3
   },
   "file_extension": ".py",
   "mimetype": "text/x-python",
   "name": "python",
   "nbconvert_exporter": "python",
   "pygments_lexer": "ipython3",
   "version": "3.6.4"
  }
 },
 "nbformat": 4,
 "nbformat_minor": 2
}
